{
 "cells": [
  {
   "cell_type": "markdown",
   "id": "86e1f05a-5a36-4182-af43-206051ff1a8b",
   "metadata": {},
   "source": [
    "Q1. Create one variable containing following type of data:\n",
    "(i) string\n",
    "(ii) list\n",
    "(iii) float\n",
    "(iv) tuple"
   ]
  },
  {
   "cell_type": "code",
   "execution_count": null,
   "id": "1c0f1930-cf1b-43d8-be07-370ceb6dc405",
   "metadata": {},
   "outputs": [],
   "source": [
    "string_variable = \"Hello, world!\"\n",
    "list_variable = [1, 2, 3, 4, 5]\n",
    "float_variable = 3.14\n",
    "tuple_variable = (1, 2, 3, 4, 5)\n"
   ]
  },
  {
   "cell_type": "markdown",
   "id": "b318479a-05d1-4305-bc24-b08d8df0916e",
   "metadata": {},
   "source": [
    "Q2. Given are some following variables containing data:\n",
    "(i) var1 = ‘ ‘\n",
    "(ii) var2 = ‘[ DS , ML , Python]’\n",
    "(iii) var3 = [ ‘DS’ , ’ML’ , ‘Python’ ]\n",
    "(iv) var4 = 1.\n",
    "What will be the data type of the above given variable."
   ]
  },
  {
   "cell_type": "raw",
   "id": "a33b1a5d-5cc0-4e3c-b0fe-394f53e2c419",
   "metadata": {},
   "source": [
    "str\n",
    "str\n",
    "list\n",
    "float"
   ]
  },
  {
   "cell_type": "markdown",
   "id": "d3508656-e06a-4f1c-9cd5-ea81e11f1038",
   "metadata": {},
   "source": [
    "Q3. Explain the use of the following operators using an example:\n",
    "(i) /\n",
    "(ii) %\n",
    "(iii) //\n",
    "(iv) **"
   ]
  },
  {
   "cell_type": "raw",
   "id": "1aa742f5-71ad-4fdf-acdc-c24589970a86",
   "metadata": {},
   "source": [
    "(i) / (Division Operator):\n",
    "The division operator / is used to perform division between two numbers. \n",
    "It returns the quotient as a floating-point number.\n",
    "\n",
    "a = 10\n",
    "b = 3\n",
    "result = a / b\n",
    "print(result)  # Output: 3.3333333333333335\n",
    "\n",
    "\n",
    "(ii) % (Modulo Operator):\n",
    "The modulo operator % returns the remainder after dividing one number by another.\n",
    "\n",
    "a = 10\n",
    "b = 3\n",
    "result = a % b\n",
    "print(result)  # Output: 1\n",
    "\n",
    "\n",
    "(iii) // (Floor Division Operator):\n",
    "The floor division operator // performs division between two numbers and returns the quotient rounded down to the nearest whole number (integer).\n",
    "\n",
    "a = 10\n",
    "b = 3\n",
    "result = a // b\n",
    "print(result)  # Output: 3\n",
    "\n",
    "\n",
    "(iv) ** (Exponentiation Operator):\n",
    "The exponentiation operator ** is used to raise a number to the power of another number.\n",
    "\n",
    "a = 2\n",
    "b = 3\n",
    "result = a ** b\n",
    "print(result)  # Output: 8\n"
   ]
  },
  {
   "cell_type": "markdown",
   "id": "d59f12e0-27b8-44a2-bae5-92a068ca2e14",
   "metadata": {},
   "source": [
    "Q4. Create a list of length 10 of your choice containing multiple types of data. Using for loop print the\n",
    "element and its data type."
   ]
  },
  {
   "cell_type": "code",
   "execution_count": 5,
   "id": "1147038d-edac-4dea-9010-3004887e5140",
   "metadata": {},
   "outputs": [
    {
     "name": "stdout",
     "output_type": "stream",
     "text": [
      "10 <class 'int'>\n",
      "Hello <class 'str'>\n",
      "3.14 <class 'float'>\n",
      "True <class 'bool'>\n",
      "[1, 2, 3] <class 'list'>\n",
      "('apple', 'banana') <class 'tuple'>\n",
      "{'name': 'John', 'age': 25} <class 'dict'>\n",
      "None <class 'NoneType'>\n",
      "(5+2j) <class 'complex'>\n",
      "False <class 'bool'>\n"
     ]
    }
   ],
   "source": [
    "my_list = [10, \"Hello\", 3.14, True, [1, 2, 3], (\"apple\", \"banana\"), {'name': 'John', 'age': 25}, None, 5 + 2j, False]\n",
    "\n",
    "for element in my_list:\n",
    "    print(element, type(element))\n"
   ]
  },
  {
   "cell_type": "markdown",
   "id": "75af33b9-9ae8-440c-8b3d-e7466fee321b",
   "metadata": {},
   "source": [
    "Q5. Using a while loop, verify if the number A is purely divisible by number B and if so then how many\n",
    "times it can be divisible."
   ]
  },
  {
   "cell_type": "code",
   "execution_count": 6,
   "id": "3abd1187-d2c1-4b97-8ef6-e08740b5c42f",
   "metadata": {},
   "outputs": [
    {
     "name": "stdout",
     "output_type": "stream",
     "text": [
      "6.0 is divisible by 7 and can be divided 1 times.\n"
     ]
    }
   ],
   "source": [
    "A = 42  # Number A\n",
    "B = 7   # Number B\n",
    "\n",
    "count = 0  # Counter for the number of divisions\n",
    "\n",
    "while A % B == 0:\n",
    "    A = A / B\n",
    "    count += 1\n",
    "\n",
    "if count > 0:\n",
    "    print(f\"{A} is divisible by {B} and can be divided {count} times.\")\n",
    "else:\n",
    "    print(f\"{A} is not divisible by {B}.\")\n"
   ]
  },
  {
   "cell_type": "markdown",
   "id": "9bc9c988-31b3-4026-87e6-573240dd825f",
   "metadata": {},
   "source": [
    "Q6. Create a list containing 25 int type data. Using for loop and if-else condition print if the element is\n",
    "divisible by 3 or not."
   ]
  },
  {
   "cell_type": "code",
   "execution_count": 7,
   "id": "12d1088c-2392-4c09-b539-3dc6b563d37a",
   "metadata": {},
   "outputs": [
    {
     "name": "stdout",
     "output_type": "stream",
     "text": [
      "4 is not divisible by 3.\n",
      "9 is divisible by 3.\n",
      "12 is divisible by 3.\n",
      "17 is not divisible by 3.\n",
      "21 is divisible by 3.\n",
      "25 is not divisible by 3.\n",
      "30 is divisible by 3.\n",
      "33 is divisible by 3.\n",
      "36 is divisible by 3.\n",
      "40 is not divisible by 3.\n",
      "43 is not divisible by 3.\n",
      "48 is divisible by 3.\n",
      "51 is divisible by 3.\n",
      "55 is not divisible by 3.\n",
      "60 is divisible by 3.\n",
      "63 is divisible by 3.\n",
      "66 is divisible by 3.\n",
      "70 is not divisible by 3.\n",
      "73 is not divisible by 3.\n",
      "78 is divisible by 3.\n",
      "81 is divisible by 3.\n",
      "85 is not divisible by 3.\n",
      "90 is divisible by 3.\n",
      "93 is divisible by 3.\n",
      "96 is divisible by 3.\n"
     ]
    }
   ],
   "source": [
    "my_list = [4, 9, 12, 17, 21, 25, 30, 33, 36, 40, 43, 48, 51, 55, 60, 63, 66, 70, 73, 78, 81, 85, 90, 93, 96]\n",
    "\n",
    "for element in my_list:\n",
    "    if element % 3 == 0:\n",
    "        print(f\"{element} is divisible by 3.\")\n",
    "    else:\n",
    "        print(f\"{element} is not divisible by 3.\")\n"
   ]
  },
  {
   "cell_type": "markdown",
   "id": "64123c1b-1a6a-463a-a9a8-f18185406725",
   "metadata": {},
   "source": [
    "Q7. What do you understand about mutable and immutable data types? Give examples for both showing\n",
    "this property."
   ]
  },
  {
   "cell_type": "raw",
   "id": "2fa83037-1489-42ee-9d38-ddd836c7dbcc",
   "metadata": {},
   "source": [
    "Immutable Data Types:\n",
    "Immutable data types are those whose values cannot be changed after they are created. \n",
    "If you perform any operation on an immutable object, it will create a new object with the updated value instead of modifying the original object.\n",
    "\n",
    "\n",
    "Examples of immutable data types in Python:\n",
    "\n",
    "int: Integer values are immutable.\n",
    "When you perform arithmetic operations on an integer, it creates a new integer object.\n",
    "x = 5\n",
    "x += 2  # The operation creates a new integer object\n",
    "print(x)  # Output: 7\n",
    "\n",
    "\n",
    "\n",
    "Mutable Data Types:\n",
    "Mutable data types are those whose values can be changed after they are created.\n",
    "If you perform any operation on a mutable object, it modifies the original object.\n",
    "Examples of mutable data types in Python:\n",
    "\n",
    "list: Lists are mutable. You can modify their elements or extend/append new elements.\n",
    "\n",
    "numbers = [1, 2, 3]\n",
    "numbers.append(4)  # Modifies the original list\n",
    "print(numbers)  # Output: [1, 2, 3, 4]\n"
   ]
  }
 ],
 "metadata": {
  "kernelspec": {
   "display_name": "Python 3 (ipykernel)",
   "language": "python",
   "name": "python3"
  },
  "language_info": {
   "codemirror_mode": {
    "name": "ipython",
    "version": 3
   },
   "file_extension": ".py",
   "mimetype": "text/x-python",
   "name": "python",
   "nbconvert_exporter": "python",
   "pygments_lexer": "ipython3",
   "version": "3.10.8"
  }
 },
 "nbformat": 4,
 "nbformat_minor": 5
}
